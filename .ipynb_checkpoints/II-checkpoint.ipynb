{
 "cells": [
  {
   "cell_type": "markdown",
   "metadata": {},
   "source": [
    "## Inverted Index\n",
    "\n",
    "An inverted index is a data structure that maps some contents to their location in a set of documents."
   ]
  },
  {
   "cell_type": "markdown",
   "metadata": {},
   "source": [
    "### example\n",
    "We use the following 3 sentences to illustrate Invereted Index.\n",
    "> S1: Urgent your grandson was arrested last night in Mexico.   \n",
    "S2: I will see the major person that can guide me.   \n",
    "S3: You are the major person in my life.\n",
    "\n",
    "The inverted index is a structure that maps the content to key-value pairs.   \n",
    "To generate the inverted index, we first separate the sentences into split words, which are served as keys.   \n",
    "The value of a particular \"key\" is a set of occurrence locations of that \"key\".   \n",
    "Then we need to filter out some common words  with stop words.   \n",
    "From the 3 sentences, we can generate the following inverted index:    \n",
    "\n",
    "> urgent:     {1}   \n",
    "grandson:   {1}   \n",
    "arrest:     {1}   \n",
    "mexico:     {1}   \n",
    "major:      {2, 3}   \n",
    "person:     {2, 3}   \n",
    "guide:      {2}   \n",
    "life:       {3}   \n",
    "\n",
    "By building an inverted index, we can fast locate the related contents by simply searching the keywords."
   ]
  },
  {
   "cell_type": "code",
   "execution_count": null,
   "metadata": {},
   "outputs": [],
   "source": []
  }
 ],
 "metadata": {
  "kernelspec": {
   "display_name": "Python 3",
   "language": "python",
   "name": "python3"
  },
  "language_info": {
   "codemirror_mode": {
    "name": "ipython",
    "version": 3
   },
   "file_extension": ".py",
   "mimetype": "text/x-python",
   "name": "python",
   "nbconvert_exporter": "python",
   "pygments_lexer": "ipython3",
   "version": "3.7.4"
  }
 },
 "nbformat": 4,
 "nbformat_minor": 4
}
